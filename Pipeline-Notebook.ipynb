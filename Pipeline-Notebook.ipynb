{
 "cells": [
  {
   "cell_type": "code",
   "execution_count": 1,
   "metadata": {
    "_cell_guid": "b1076dfc-b9ad-4769-8c92-a6c4dae69d19",
    "_uuid": "8f2839f25d086af736a60e9eeb907d3b93b6e0e5",
    "execution": {
     "iopub.execute_input": "2023-07-07T10:31:46.928016Z",
     "iopub.status.busy": "2023-07-07T10:31:46.927513Z",
     "iopub.status.idle": "2023-07-07T10:31:46.944221Z",
     "shell.execute_reply": "2023-07-07T10:31:46.943150Z",
     "shell.execute_reply.started": "2023-07-07T10:31:46.927984Z"
    }
   },
   "outputs": [],
   "source": [
    "\n",
    "import numpy as np # linear algebra\n",
    "import pandas as pd # data processing, CSV file I/O (e.g. pd.read_csv)"
   ]
  },
  {
   "cell_type": "code",
   "execution_count": 2,
   "metadata": {
    "execution": {
     "iopub.execute_input": "2023-07-07T10:31:46.980113Z",
     "iopub.status.busy": "2023-07-07T10:31:46.979636Z",
     "iopub.status.idle": "2023-07-07T10:31:46.990161Z",
     "shell.execute_reply": "2023-07-07T10:31:46.988537Z",
     "shell.execute_reply.started": "2023-07-07T10:31:46.980078Z"
    }
   },
   "outputs": [],
   "source": [
    "import seaborn as sns\n",
    "import matplotlib.pyplot as plt\n",
    "%matplotlib inline \n",
    "import warnings\n",
    "warnings.filterwarnings('ignore')\n",
    "pd.set_option('display.max_columns', None)\n",
    "pd.set_option('display.max_rows', None)"
   ]
  },
  {
   "cell_type": "code",
   "execution_count": 3,
   "metadata": {
    "execution": {
     "iopub.execute_input": "2023-07-07T10:31:47.048903Z",
     "iopub.status.busy": "2023-07-07T10:31:47.048369Z",
     "iopub.status.idle": "2023-07-07T10:31:47.087593Z",
     "shell.execute_reply": "2023-07-07T10:31:47.086083Z",
     "shell.execute_reply.started": "2023-07-07T10:31:47.048863Z"
    }
   },
   "outputs": [
    {
     "data": {
      "text/html": [
       "<div>\n",
       "<style scoped>\n",
       "    .dataframe tbody tr th:only-of-type {\n",
       "        vertical-align: middle;\n",
       "    }\n",
       "\n",
       "    .dataframe tbody tr th {\n",
       "        vertical-align: top;\n",
       "    }\n",
       "\n",
       "    .dataframe thead th {\n",
       "        text-align: right;\n",
       "    }\n",
       "</style>\n",
       "<table border=\"1\" class=\"dataframe\">\n",
       "  <thead>\n",
       "    <tr style=\"text-align: right;\">\n",
       "      <th></th>\n",
       "      <th>Manufacturer</th>\n",
       "      <th>Model Name</th>\n",
       "      <th>Category</th>\n",
       "      <th>Screen Size</th>\n",
       "      <th>Screen</th>\n",
       "      <th>CPU</th>\n",
       "      <th>RAM</th>\n",
       "      <th>Storage</th>\n",
       "      <th>GPU</th>\n",
       "      <th>Operating System</th>\n",
       "      <th>Operating System Version</th>\n",
       "      <th>Weight</th>\n",
       "      <th>Price</th>\n",
       "    </tr>\n",
       "  </thead>\n",
       "  <tbody>\n",
       "    <tr>\n",
       "      <th>0</th>\n",
       "      <td>Apple</td>\n",
       "      <td>MacBook Pro</td>\n",
       "      <td>Ultrabook</td>\n",
       "      <td>13.3\"</td>\n",
       "      <td>IPS Panel Retina Display 2560x1600</td>\n",
       "      <td>Intel Core i5 2.3GHz</td>\n",
       "      <td>8GB</td>\n",
       "      <td>128GB SSD</td>\n",
       "      <td>Intel Iris Plus Graphics 640</td>\n",
       "      <td>macOS</td>\n",
       "      <td>NaN</td>\n",
       "      <td>1.37kg</td>\n",
       "      <td>11912523.48</td>\n",
       "    </tr>\n",
       "    <tr>\n",
       "      <th>1</th>\n",
       "      <td>Apple</td>\n",
       "      <td>Macbook Air</td>\n",
       "      <td>Ultrabook</td>\n",
       "      <td>13.3\"</td>\n",
       "      <td>1440x900</td>\n",
       "      <td>Intel Core i5 1.8GHz</td>\n",
       "      <td>8GB</td>\n",
       "      <td>128GB Flash Storage</td>\n",
       "      <td>Intel HD Graphics 6000</td>\n",
       "      <td>macOS</td>\n",
       "      <td>NaN</td>\n",
       "      <td>1.34kg</td>\n",
       "      <td>7993374.48</td>\n",
       "    </tr>\n",
       "    <tr>\n",
       "      <th>2</th>\n",
       "      <td>HP</td>\n",
       "      <td>250 G6</td>\n",
       "      <td>Notebook</td>\n",
       "      <td>15.6\"</td>\n",
       "      <td>Full HD 1920x1080</td>\n",
       "      <td>Intel Core i5 7200U 2.5GHz</td>\n",
       "      <td>8GB</td>\n",
       "      <td>256GB SSD</td>\n",
       "      <td>Intel HD Graphics 620</td>\n",
       "      <td>No OS</td>\n",
       "      <td>NaN</td>\n",
       "      <td>1.86kg</td>\n",
       "      <td>5112900.00</td>\n",
       "    </tr>\n",
       "    <tr>\n",
       "      <th>3</th>\n",
       "      <td>Apple</td>\n",
       "      <td>MacBook Pro</td>\n",
       "      <td>Ultrabook</td>\n",
       "      <td>15.4\"</td>\n",
       "      <td>IPS Panel Retina Display 2880x1800</td>\n",
       "      <td>Intel Core i7 2.7GHz</td>\n",
       "      <td>16GB</td>\n",
       "      <td>512GB SSD</td>\n",
       "      <td>AMD Radeon Pro 455</td>\n",
       "      <td>macOS</td>\n",
       "      <td>NaN</td>\n",
       "      <td>1.83kg</td>\n",
       "      <td>22563005.40</td>\n",
       "    </tr>\n",
       "    <tr>\n",
       "      <th>4</th>\n",
       "      <td>Apple</td>\n",
       "      <td>MacBook Pro</td>\n",
       "      <td>Ultrabook</td>\n",
       "      <td>13.3\"</td>\n",
       "      <td>IPS Panel Retina Display 2560x1600</td>\n",
       "      <td>Intel Core i5 3.1GHz</td>\n",
       "      <td>8GB</td>\n",
       "      <td>256GB SSD</td>\n",
       "      <td>Intel Iris Plus Graphics 650</td>\n",
       "      <td>macOS</td>\n",
       "      <td>NaN</td>\n",
       "      <td>1.37kg</td>\n",
       "      <td>16037611.20</td>\n",
       "    </tr>\n",
       "  </tbody>\n",
       "</table>\n",
       "</div>"
      ],
      "text/plain": [
       "  Manufacturer   Model Name   Category Screen Size  \\\n",
       "0        Apple  MacBook Pro  Ultrabook       13.3\"   \n",
       "1        Apple  Macbook Air  Ultrabook       13.3\"   \n",
       "2           HP       250 G6   Notebook       15.6\"   \n",
       "3        Apple  MacBook Pro  Ultrabook       15.4\"   \n",
       "4        Apple  MacBook Pro  Ultrabook       13.3\"   \n",
       "\n",
       "                               Screen                         CPU   RAM  \\\n",
       "0  IPS Panel Retina Display 2560x1600        Intel Core i5 2.3GHz   8GB   \n",
       "1                            1440x900        Intel Core i5 1.8GHz   8GB   \n",
       "2                   Full HD 1920x1080  Intel Core i5 7200U 2.5GHz   8GB   \n",
       "3  IPS Panel Retina Display 2880x1800        Intel Core i7 2.7GHz  16GB   \n",
       "4  IPS Panel Retina Display 2560x1600        Intel Core i5 3.1GHz   8GB   \n",
       "\n",
       "               Storage                           GPU Operating System  \\\n",
       "0            128GB SSD  Intel Iris Plus Graphics 640            macOS   \n",
       "1  128GB Flash Storage        Intel HD Graphics 6000            macOS   \n",
       "2            256GB SSD         Intel HD Graphics 620            No OS   \n",
       "3            512GB SSD            AMD Radeon Pro 455            macOS   \n",
       "4            256GB SSD  Intel Iris Plus Graphics 650            macOS   \n",
       "\n",
       "  Operating System Version  Weight        Price  \n",
       "0                      NaN  1.37kg  11912523.48  \n",
       "1                      NaN  1.34kg   7993374.48  \n",
       "2                      NaN  1.86kg   5112900.00  \n",
       "3                      NaN  1.83kg  22563005.40  \n",
       "4                      NaN  1.37kg  16037611.20  "
      ]
     },
     "execution_count": 3,
     "metadata": {},
     "output_type": "execute_result"
    }
   ],
   "source": [
    "train=pd.read_csv('laptops_train.csv')\n",
    "test=pd.read_csv('laptops_test.csv')\n",
    "df=pd.concat([train.reset_index(drop=True),test.reset_index(drop=True)])\n",
    "df.head()"
   ]
  },
  {
   "cell_type": "code",
   "execution_count": 4,
   "metadata": {
    "execution": {
     "iopub.execute_input": "2023-07-07T10:31:47.523192Z",
     "iopub.status.busy": "2023-07-07T10:31:47.522517Z",
     "iopub.status.idle": "2023-07-07T10:31:47.531724Z",
     "shell.execute_reply": "2023-07-07T10:31:47.530257Z",
     "shell.execute_reply.started": "2023-07-07T10:31:47.523159Z"
    }
   },
   "outputs": [],
   "source": [
    "df['Operating System Version']=df['Operating System Version'].fillna(df['Operating System Version'].mode()[0])"
   ]
  },
  {
   "cell_type": "code",
   "execution_count": 5,
   "metadata": {
    "execution": {
     "iopub.execute_input": "2023-07-07T10:31:47.721099Z",
     "iopub.status.busy": "2023-07-07T10:31:47.720633Z",
     "iopub.status.idle": "2023-07-07T10:31:47.727626Z",
     "shell.execute_reply": "2023-07-07T10:31:47.725841Z",
     "shell.execute_reply.started": "2023-07-07T10:31:47.721062Z"
    }
   },
   "outputs": [],
   "source": [
    "def order(x,num):\n",
    "    return df[x].value_counts().head(num).index"
   ]
  },
  {
   "cell_type": "code",
   "execution_count": 6,
   "metadata": {
    "execution": {
     "iopub.execute_input": "2023-07-07T10:31:48.178323Z",
     "iopub.status.busy": "2023-07-07T10:31:48.177784Z",
     "iopub.status.idle": "2023-07-07T10:31:48.189722Z",
     "shell.execute_reply": "2023-07-07T10:31:48.188374Z",
     "shell.execute_reply.started": "2023-07-07T10:31:48.178250Z"
    }
   },
   "outputs": [],
   "source": [
    "# Considering only top 10 Manufacturers\n",
    "screen_list=list(df['Manufacturer'].value_counts().index[0:10])\n",
    "df=df[df['Manufacturer'].isin(screen_list)]"
   ]
  },
  {
   "cell_type": "code",
   "execution_count": 7,
   "metadata": {
    "execution": {
     "iopub.execute_input": "2023-07-07T10:31:48.209843Z",
     "iopub.status.busy": "2023-07-07T10:31:48.209479Z",
     "iopub.status.idle": "2023-07-07T10:31:48.220416Z",
     "shell.execute_reply": "2023-07-07T10:31:48.218841Z",
     "shell.execute_reply.started": "2023-07-07T10:31:48.209813Z"
    }
   },
   "outputs": [],
   "source": [
    "df.drop('Model Name',axis=1,inplace=True)"
   ]
  },
  {
   "cell_type": "code",
   "execution_count": 8,
   "metadata": {
    "execution": {
     "iopub.execute_input": "2023-07-07T10:31:48.968389Z",
     "iopub.status.busy": "2023-07-07T10:31:48.967794Z",
     "iopub.status.idle": "2023-07-07T10:31:48.978543Z",
     "shell.execute_reply": "2023-07-07T10:31:48.976977Z",
     "shell.execute_reply.started": "2023-07-07T10:31:48.968340Z"
    }
   },
   "outputs": [],
   "source": [
    "#we will consider top 5 size only\n",
    "screen_list=list(df['Screen Size'].value_counts().index[0:6])\n",
    "df=df[df['Screen Size'].isin(screen_list)]"
   ]
  },
  {
   "cell_type": "code",
   "execution_count": 9,
   "metadata": {
    "execution": {
     "iopub.execute_input": "2023-07-07T10:31:49.285887Z",
     "iopub.status.busy": "2023-07-07T10:31:49.285440Z",
     "iopub.status.idle": "2023-07-07T10:31:49.295208Z",
     "shell.execute_reply": "2023-07-07T10:31:49.293877Z",
     "shell.execute_reply.started": "2023-07-07T10:31:49.285843Z"
    }
   },
   "outputs": [],
   "source": [
    "df['Screen Size']=df['Screen Size'].str.replace('\"','').astype('float')"
   ]
  },
  {
   "cell_type": "code",
   "execution_count": 10,
   "metadata": {
    "execution": {
     "iopub.execute_input": "2023-07-07T10:31:49.297331Z",
     "iopub.status.busy": "2023-07-07T10:31:49.296812Z",
     "iopub.status.idle": "2023-07-07T10:31:49.310899Z",
     "shell.execute_reply": "2023-07-07T10:31:49.309665Z",
     "shell.execute_reply.started": "2023-07-07T10:31:49.297285Z"
    }
   },
   "outputs": [],
   "source": [
    "\n",
    "df['Touchscreen'] = df['Screen'].str.contains('Touchscreen',case=False).astype('int')"
   ]
  },
  {
   "cell_type": "code",
   "execution_count": 11,
   "metadata": {
    "execution": {
     "iopub.execute_input": "2023-07-07T10:31:49.474352Z",
     "iopub.status.busy": "2023-07-07T10:31:49.473337Z",
     "iopub.status.idle": "2023-07-07T10:31:49.489477Z",
     "shell.execute_reply": "2023-07-07T10:31:49.487810Z",
     "shell.execute_reply.started": "2023-07-07T10:31:49.474291Z"
    }
   },
   "outputs": [],
   "source": [
    "df['Ips'] = df['Screen'].str.contains('Ips',case=False).astype('int')"
   ]
  },
  {
   "cell_type": "code",
   "execution_count": 12,
   "metadata": {
    "execution": {
     "iopub.execute_input": "2023-07-07T10:31:49.656844Z",
     "iopub.status.busy": "2023-07-07T10:31:49.655911Z",
     "iopub.status.idle": "2023-07-07T10:31:49.694024Z",
     "shell.execute_reply": "2023-07-07T10:31:49.692238Z",
     "shell.execute_reply.started": "2023-07-07T10:31:49.656781Z"
    }
   },
   "outputs": [],
   "source": [
    "#'\\d'-Number ,'+'-one or more ,'x'-means x, '\\d+'-one or more digits\n",
    "#(r'(\\d+)x\\d+')=select one or more digits followed by x and then one or more digits\n",
    "df['xres'] = df['Screen'].str.extract(r'(\\d+)x\\d+').astype('int')\n",
    "df['yres'] = df['Screen'].str.extract(r'\\d+x(\\d+)').astype('int')\n",
    "df.drop('Screen',axis=1,inplace=True)"
   ]
  },
  {
   "cell_type": "code",
   "execution_count": 13,
   "metadata": {
    "execution": {
     "iopub.execute_input": "2023-07-07T10:31:49.697949Z",
     "iopub.status.busy": "2023-07-07T10:31:49.696923Z",
     "iopub.status.idle": "2023-07-07T10:31:49.709680Z",
     "shell.execute_reply": "2023-07-07T10:31:49.708213Z",
     "shell.execute_reply.started": "2023-07-07T10:31:49.697888Z"
    }
   },
   "outputs": [],
   "source": [
    "df['PPI']=(((df['xres']**2+df['yres']**2)**0.5)/df['Screen Size'])"
   ]
  },
  {
   "cell_type": "code",
   "execution_count": 14,
   "metadata": {
    "execution": {
     "iopub.execute_input": "2023-07-07T10:31:49.711618Z",
     "iopub.status.busy": "2023-07-07T10:31:49.711055Z",
     "iopub.status.idle": "2023-07-07T10:31:49.723475Z",
     "shell.execute_reply": "2023-07-07T10:31:49.722226Z",
     "shell.execute_reply.started": "2023-07-07T10:31:49.711582Z"
    }
   },
   "outputs": [],
   "source": [
    "df.drop(['xres','yres'],axis=1,inplace=True)"
   ]
  },
  {
   "cell_type": "code",
   "execution_count": 15,
   "metadata": {
    "execution": {
     "iopub.execute_input": "2023-07-07T10:31:50.240397Z",
     "iopub.status.busy": "2023-07-07T10:31:50.240035Z",
     "iopub.status.idle": "2023-07-07T10:31:50.257924Z",
     "shell.execute_reply": "2023-07-07T10:31:50.256679Z",
     "shell.execute_reply.started": "2023-07-07T10:31:50.240356Z"
    }
   },
   "outputs": [
    {
     "data": {
      "text/plain": [
       "0         Intel Core i5\n",
       "1         Intel Core i5\n",
       "2         Intel Core i5\n",
       "4         Intel Core i5\n",
       "5    AMD A9-Series 9420\n",
       "Name: Pro_Name, dtype: object"
      ]
     },
     "execution_count": 15,
     "metadata": {},
     "output_type": "execute_result"
    }
   ],
   "source": [
    "df['Pro_Name']=df['CPU'].apply([lambda x:' '.join(x.split()[0:3])])\n",
    "df['Pro_Name'].head()"
   ]
  },
  {
   "cell_type": "code",
   "execution_count": 16,
   "metadata": {
    "execution": {
     "iopub.execute_input": "2023-07-07T10:31:50.259857Z",
     "iopub.status.busy": "2023-07-07T10:31:50.259429Z",
     "iopub.status.idle": "2023-07-07T10:31:50.274462Z",
     "shell.execute_reply": "2023-07-07T10:31:50.273284Z",
     "shell.execute_reply.started": "2023-07-07T10:31:50.259821Z"
    }
   },
   "outputs": [],
   "source": [
    "def extractPro(x):\n",
    "    if x=='Intel Core i5' or x=='Intel Core i7' or x=='Intel Core i3':\n",
    "        return x\n",
    "    else:\n",
    "        return 'Others'\n",
    "    \n",
    "df['CPU']=df['Pro_Name'].apply(extractPro)\n",
    "df.drop('Pro_Name',axis=1,inplace=True)"
   ]
  },
  {
   "cell_type": "code",
   "execution_count": 17,
   "metadata": {
    "execution": {
     "iopub.execute_input": "2023-07-07T10:31:50.933775Z",
     "iopub.status.busy": "2023-07-07T10:31:50.932874Z",
     "iopub.status.idle": "2023-07-07T10:31:50.944224Z",
     "shell.execute_reply": "2023-07-07T10:31:50.942815Z",
     "shell.execute_reply.started": "2023-07-07T10:31:50.933733Z"
    }
   },
   "outputs": [],
   "source": [
    "df['RAM']=df['RAM'].str.replace('GB','')\n",
    "df['RAM'] = df['RAM'].astype('int')"
   ]
  },
  {
   "cell_type": "code",
   "execution_count": 18,
   "metadata": {
    "execution": {
     "iopub.execute_input": "2023-07-07T10:31:51.439905Z",
     "iopub.status.busy": "2023-07-07T10:31:51.439582Z",
     "iopub.status.idle": "2023-07-07T10:31:51.461437Z",
     "shell.execute_reply": "2023-07-07T10:31:51.459830Z",
     "shell.execute_reply.started": "2023-07-07T10:31:51.439878Z"
    }
   },
   "outputs": [],
   "source": [
    "\n",
    "top=df[' Storage'].value_counts().head(12).index\n",
    "df=df[df[' Storage'].isin(top)]\n",
    "df[' Storage']=df[' Storage'].str.replace('GB','')\n",
    "df[' Storage']=df[' Storage'].str.replace('TB','000')\n",
    "first = df[\" Storage\"].str.split(\"+\", n = 1, expand = True)\n",
    "\n",
    "df['part1']=first[0]\n",
    "df['part2']=first[1]#we have null values here\n",
    "# print(df[['part1','part2']])\n",
    "\n",
    "df['part1']=df['part1'].str.strip()\n",
    "df['part2'].fillna('0',inplace=True)"
   ]
  },
  {
   "cell_type": "code",
   "execution_count": 19,
   "metadata": {
    "execution": {
     "iopub.execute_input": "2023-07-07T10:31:51.463844Z",
     "iopub.status.busy": "2023-07-07T10:31:51.463309Z",
     "iopub.status.idle": "2023-07-07T10:31:51.482110Z",
     "shell.execute_reply": "2023-07-07T10:31:51.481259Z",
     "shell.execute_reply.started": "2023-07-07T10:31:51.463807Z"
    }
   },
   "outputs": [],
   "source": [
    "df[\"Storage1_SSD\"] = df[\"part1\"].apply(lambda x: 1 if \"SSD\" in x else 0)\n",
    "df[\"Storage1_HDD\"] = df[\"part1\"].apply(lambda x: 1 if \"HDD\" in x else 0)\n",
    "df[\"Storage1_Flash_Storage\"] = df[\"part1\"].apply(lambda x: 1 if \"Flash Storage\" in x else 0)\n",
    "\n",
    "df[\"Storage2_SSD\"] = df[\"part2\"].apply(lambda x: 1 if \"SSD\" in x else 0)\n",
    "df[\"Storage2_HDD\"] = df[\"part2\"].apply(lambda x: 1 if \"HDD\" in x else 0)\n",
    "df[\"Storage2_Flash_Storage\"] = df[\"part2\"].apply(lambda x: 1 if \"Flash Storage\" in x else 0)"
   ]
  },
  {
   "cell_type": "code",
   "execution_count": 20,
   "metadata": {
    "execution": {
     "iopub.execute_input": "2023-07-07T10:31:51.490570Z",
     "iopub.status.busy": "2023-07-07T10:31:51.490160Z",
     "iopub.status.idle": "2023-07-07T10:31:51.509867Z",
     "shell.execute_reply": "2023-07-07T10:31:51.508361Z",
     "shell.execute_reply.started": "2023-07-07T10:31:51.490539Z"
    }
   },
   "outputs": [
    {
     "data": {
      "text/plain": [
       "dtype('int32')"
      ]
     },
     "execution_count": 20,
     "metadata": {},
     "output_type": "execute_result"
    }
   ],
   "source": [
    "df['part1']=df['part1'].str.replace(r'\\D','').astype(int)\n",
    "df['part2'] = df['part2'].str.replace(r'\\D','').astype(int)\n",
    "df['part1'].dtype"
   ]
  },
  {
   "cell_type": "code",
   "execution_count": 21,
   "metadata": {
    "execution": {
     "iopub.execute_input": "2023-07-07T10:31:51.514067Z",
     "iopub.status.busy": "2023-07-07T10:31:51.513204Z",
     "iopub.status.idle": "2023-07-07T10:31:51.552473Z",
     "shell.execute_reply": "2023-07-07T10:31:51.551080Z",
     "shell.execute_reply.started": "2023-07-07T10:31:51.514032Z"
    }
   },
   "outputs": [],
   "source": [
    "df[\"SSD\"]=(df[\"part1\"]*df[\"Storage1_SSD\"]+df[\"part2\"]*df[\"Storage2_SSD\"])\n",
    "df[\"HDD\"]=(df[\"part1\"]*df[\"Storage1_HDD\"]+df[\"part2\"]*df[\"Storage2_HDD\"])\n",
    "df[\"Flash_Storage\"]=(df[\"part1\"]*df[\"Storage1_Flash_Storage\"]+df[\"part2\"]*df[\"Storage2_Flash_Storage\"])\n",
    "\n",
    "df.drop(columns=[' Storage','part1', 'part2','Storage1_SSD','Storage1_HDD', 'Storage1_Flash_Storage', 'Storage2_SSD', 'Storage2_HDD', 'Storage2_Flash_Storage'],axis=1,inplace=True)\n"
   ]
  },
  {
   "cell_type": "code",
   "execution_count": null,
   "metadata": {
    "execution": {
     "iopub.execute_input": "2023-07-07T10:31:51.554774Z",
     "iopub.status.busy": "2023-07-07T10:31:51.554418Z",
     "iopub.status.idle": "2023-07-07T10:31:51.569252Z",
     "shell.execute_reply": "2023-07-07T10:31:51.567846Z",
     "shell.execute_reply.started": "2023-07-07T10:31:51.554744Z"
    }
   },
   "outputs": [],
   "source": []
  },
  {
   "cell_type": "code",
   "execution_count": 22,
   "metadata": {
    "execution": {
     "iopub.execute_input": "2023-07-07T10:31:52.044464Z",
     "iopub.status.busy": "2023-07-07T10:31:52.043906Z",
     "iopub.status.idle": "2023-07-07T10:31:52.063439Z",
     "shell.execute_reply": "2023-07-07T10:31:52.062215Z",
     "shell.execute_reply.started": "2023-07-07T10:31:52.044415Z"
    }
   },
   "outputs": [
    {
     "data": {
      "text/plain": [
       "Intel     627\n",
       "Nvidia    381\n",
       "AMD       166\n",
       "Name: GPU, dtype: int64"
      ]
     },
     "execution_count": 22,
     "metadata": {},
     "output_type": "execute_result"
    }
   ],
   "source": [
    "n=df['GPU'].str.split(' ',n=1,expand=True)\n",
    "df['GPU']=n[0]\n",
    "df['GPU'].value_counts()"
   ]
  },
  {
   "cell_type": "code",
   "execution_count": 23,
   "metadata": {
    "execution": {
     "iopub.execute_input": "2023-07-07T10:31:52.887419Z",
     "iopub.status.busy": "2023-07-07T10:31:52.886342Z",
     "iopub.status.idle": "2023-07-07T10:31:52.895091Z",
     "shell.execute_reply": "2023-07-07T10:31:52.893788Z",
     "shell.execute_reply.started": "2023-07-07T10:31:52.887377Z"
    }
   },
   "outputs": [],
   "source": [
    "#we will not consider Operating System Version as a parameter because most of the laptops are coming with os pre installed \n",
    "#As you can see market is dominated by windows os and windows 10\n",
    "df.drop('Operating System Version',axis=1,inplace=True)"
   ]
  },
  {
   "cell_type": "code",
   "execution_count": 24,
   "metadata": {
    "execution": {
     "iopub.execute_input": "2023-07-07T10:31:52.918580Z",
     "iopub.status.busy": "2023-07-07T10:31:52.917540Z",
     "iopub.status.idle": "2023-07-07T10:31:52.931085Z",
     "shell.execute_reply": "2023-07-07T10:31:52.929845Z",
     "shell.execute_reply.started": "2023-07-07T10:31:52.918533Z"
    }
   },
   "outputs": [],
   "source": [
    "df['Weight']=df['Weight'].str.extract(r'(\\d+\\.?\\d*)').astype('float')"
   ]
  },
  {
   "cell_type": "code",
   "execution_count": 25,
   "metadata": {},
   "outputs": [
    {
     "data": {
      "text/html": [
       "<div>\n",
       "<style scoped>\n",
       "    .dataframe tbody tr th:only-of-type {\n",
       "        vertical-align: middle;\n",
       "    }\n",
       "\n",
       "    .dataframe tbody tr th {\n",
       "        vertical-align: top;\n",
       "    }\n",
       "\n",
       "    .dataframe thead th {\n",
       "        text-align: right;\n",
       "    }\n",
       "</style>\n",
       "<table border=\"1\" class=\"dataframe\">\n",
       "  <thead>\n",
       "    <tr style=\"text-align: right;\">\n",
       "      <th></th>\n",
       "      <th>Manufacturer</th>\n",
       "      <th>Category</th>\n",
       "      <th>Screen Size</th>\n",
       "      <th>CPU</th>\n",
       "      <th>RAM</th>\n",
       "      <th>GPU</th>\n",
       "      <th>Operating System</th>\n",
       "      <th>Weight</th>\n",
       "      <th>Price</th>\n",
       "      <th>Touchscreen</th>\n",
       "      <th>Ips</th>\n",
       "      <th>PPI</th>\n",
       "      <th>SSD</th>\n",
       "      <th>HDD</th>\n",
       "      <th>Flash_Storage</th>\n",
       "    </tr>\n",
       "  </thead>\n",
       "  <tbody>\n",
       "    <tr>\n",
       "      <th>0</th>\n",
       "      <td>Apple</td>\n",
       "      <td>Ultrabook</td>\n",
       "      <td>13.3</td>\n",
       "      <td>Intel Core i5</td>\n",
       "      <td>8</td>\n",
       "      <td>Intel</td>\n",
       "      <td>macOS</td>\n",
       "      <td>1.37</td>\n",
       "      <td>11912523.48</td>\n",
       "      <td>0</td>\n",
       "      <td>1</td>\n",
       "      <td>226.983005</td>\n",
       "      <td>128</td>\n",
       "      <td>0</td>\n",
       "      <td>0</td>\n",
       "    </tr>\n",
       "    <tr>\n",
       "      <th>2</th>\n",
       "      <td>HP</td>\n",
       "      <td>Notebook</td>\n",
       "      <td>15.6</td>\n",
       "      <td>Intel Core i5</td>\n",
       "      <td>8</td>\n",
       "      <td>Intel</td>\n",
       "      <td>No OS</td>\n",
       "      <td>1.86</td>\n",
       "      <td>5112900.00</td>\n",
       "      <td>0</td>\n",
       "      <td>0</td>\n",
       "      <td>141.211998</td>\n",
       "      <td>256</td>\n",
       "      <td>0</td>\n",
       "      <td>0</td>\n",
       "    </tr>\n",
       "    <tr>\n",
       "      <th>4</th>\n",
       "      <td>Apple</td>\n",
       "      <td>Ultrabook</td>\n",
       "      <td>13.3</td>\n",
       "      <td>Intel Core i5</td>\n",
       "      <td>8</td>\n",
       "      <td>Intel</td>\n",
       "      <td>macOS</td>\n",
       "      <td>1.37</td>\n",
       "      <td>16037611.20</td>\n",
       "      <td>0</td>\n",
       "      <td>1</td>\n",
       "      <td>226.983005</td>\n",
       "      <td>256</td>\n",
       "      <td>0</td>\n",
       "      <td>0</td>\n",
       "    </tr>\n",
       "    <tr>\n",
       "      <th>5</th>\n",
       "      <td>Acer</td>\n",
       "      <td>Notebook</td>\n",
       "      <td>15.6</td>\n",
       "      <td>Others</td>\n",
       "      <td>4</td>\n",
       "      <td>AMD</td>\n",
       "      <td>Windows</td>\n",
       "      <td>2.10</td>\n",
       "      <td>3556800.00</td>\n",
       "      <td>0</td>\n",
       "      <td>0</td>\n",
       "      <td>100.454670</td>\n",
       "      <td>0</td>\n",
       "      <td>500</td>\n",
       "      <td>0</td>\n",
       "    </tr>\n",
       "    <tr>\n",
       "      <th>8</th>\n",
       "      <td>Asus</td>\n",
       "      <td>Ultrabook</td>\n",
       "      <td>14.0</td>\n",
       "      <td>Intel Core i7</td>\n",
       "      <td>16</td>\n",
       "      <td>Nvidia</td>\n",
       "      <td>Windows</td>\n",
       "      <td>1.30</td>\n",
       "      <td>13293540.00</td>\n",
       "      <td>0</td>\n",
       "      <td>0</td>\n",
       "      <td>157.350512</td>\n",
       "      <td>512</td>\n",
       "      <td>0</td>\n",
       "      <td>0</td>\n",
       "    </tr>\n",
       "  </tbody>\n",
       "</table>\n",
       "</div>"
      ],
      "text/plain": [
       "  Manufacturer   Category  Screen Size            CPU  RAM     GPU  \\\n",
       "0        Apple  Ultrabook         13.3  Intel Core i5    8   Intel   \n",
       "2           HP   Notebook         15.6  Intel Core i5    8   Intel   \n",
       "4        Apple  Ultrabook         13.3  Intel Core i5    8   Intel   \n",
       "5         Acer   Notebook         15.6         Others    4     AMD   \n",
       "8         Asus  Ultrabook         14.0  Intel Core i7   16  Nvidia   \n",
       "\n",
       "  Operating System  Weight        Price  Touchscreen  Ips         PPI  SSD  \\\n",
       "0            macOS    1.37  11912523.48            0    1  226.983005  128   \n",
       "2            No OS    1.86   5112900.00            0    0  141.211998  256   \n",
       "4            macOS    1.37  16037611.20            0    1  226.983005  256   \n",
       "5          Windows    2.10   3556800.00            0    0  100.454670    0   \n",
       "8          Windows    1.30  13293540.00            0    0  157.350512  512   \n",
       "\n",
       "   HDD  Flash_Storage  \n",
       "0    0              0  \n",
       "2    0              0  \n",
       "4    0              0  \n",
       "5  500              0  \n",
       "8    0              0  "
      ]
     },
     "execution_count": 25,
     "metadata": {},
     "output_type": "execute_result"
    }
   ],
   "source": [
    "df.head()"
   ]
  },
  {
   "cell_type": "code",
   "execution_count": 26,
   "metadata": {},
   "outputs": [
    {
     "data": {
      "text/plain": [
       "Index(['Manufacturer', 'Category', 'Screen Size', 'CPU', 'RAM', 'GPU',\n",
       "       'Operating System', 'Weight', 'Price', 'Touchscreen', 'Ips', 'PPI',\n",
       "       'SSD', 'HDD', 'Flash_Storage'],\n",
       "      dtype='object')"
      ]
     },
     "execution_count": 26,
     "metadata": {},
     "output_type": "execute_result"
    }
   ],
   "source": [
    "df.columns"
   ]
  },
  {
   "cell_type": "code",
   "execution_count": 27,
   "metadata": {
    "execution": {
     "iopub.execute_input": "2023-07-07T10:32:00.709661Z",
     "iopub.status.busy": "2023-07-07T10:32:00.709294Z",
     "iopub.status.idle": "2023-07-07T10:32:00.726192Z",
     "shell.execute_reply": "2023-07-07T10:32:00.724910Z",
     "shell.execute_reply.started": "2023-07-07T10:32:00.709632Z"
    }
   },
   "outputs": [],
   "source": [
    "from sklearn.model_selection import train_test_split\n",
    "x=df.drop('Price',axis=1)\n",
    "y=np.log(df['Price'])\n",
    "x_train,x_test,y_train,y_test = train_test_split(x,y,test_size=0.2)"
   ]
  },
  {
   "cell_type": "markdown",
   "metadata": {},
   "source": [
    "# Model Building"
   ]
  },
  {
   "cell_type": "code",
   "execution_count": 28,
   "metadata": {
    "execution": {
     "iopub.execute_input": "2023-07-07T10:32:00.729578Z",
     "iopub.status.busy": "2023-07-07T10:32:00.728075Z",
     "iopub.status.idle": "2023-07-07T10:32:00.737051Z",
     "shell.execute_reply": "2023-07-07T10:32:00.736104Z",
     "shell.execute_reply.started": "2023-07-07T10:32:00.729540Z"
    }
   },
   "outputs": [],
   "source": [
    "from sklearn.compose import ColumnTransformer\n",
    "from sklearn.pipeline import Pipeline\n",
    "from sklearn.preprocessing import OneHotEncoder\n",
    "from sklearn.metrics import r2_score,mean_absolute_error\n",
    "from sklearn.ensemble import GradientBoostingRegressor\n",
    "from xgboost import XGBRegressor"
   ]
  },
  {
   "cell_type": "code",
   "execution_count": 29,
   "metadata": {},
   "outputs": [
    {
     "name": "stdout",
     "output_type": "stream",
     "text": [
      "R2 score 0.9061022882398017\n",
      "MAE 0.1401250733234124\n"
     ]
    }
   ],
   "source": [
    "step1 = ColumnTransformer(transformers=[\n",
    "    ('Ohe',OneHotEncoder(sparse=False,drop='first'),[0,1,3,5,6])\n",
    "],remainder='passthrough')\n",
    "\n",
    "step2 = XGBRegressor()\n",
    "\n",
    "pipe = Pipeline([\n",
    "    ('step1',step1),\n",
    "    ('step2',step2)\n",
    "])\n",
    "\n",
    "pipe.fit(x_train,y_train)\n",
    "\n",
    "y_pred = pipe.predict(x_test)\n",
    "\n",
    "print('R2 score',r2_score(y_test,y_pred))\n",
    "print('MAE',mean_absolute_error(y_test,y_pred))"
   ]
  },
  {
   "cell_type": "code",
   "execution_count": 30,
   "metadata": {},
   "outputs": [],
   "source": [
    "import pickle\n",
    "pickle.dump(pipe,open('pipe.pkl','wb'))"
   ]
  },
  {
   "cell_type": "code",
   "execution_count": 31,
   "metadata": {},
   "outputs": [
    {
     "data": {
      "text/plain": [
       "{'Manufacturer': 'MSI',\n",
       " 'Category': 'Gaming',\n",
       " 'Screen Size': 17.3,\n",
       " 'CPU': 'Intel Core i7',\n",
       " 'RAM': 16,\n",
       " 'GPU': 'Nvidia',\n",
       " 'Operating System': 'Windows',\n",
       " 'Weight': 4.5,\n",
       " 'Touchscreen': 0,\n",
       " 'Ips': 0,\n",
       " 'PPI': 127.33567457123111,\n",
       " 'SSD': 128,\n",
       " 'HDD': 1000,\n",
       " 'Flash_Storage': 0}"
      ]
     },
     "execution_count": 31,
     "metadata": {},
     "output_type": "execute_result"
    }
   ],
   "source": [
    "r1=dict(x_test.iloc[8])\n",
    "r1"
   ]
  },
  {
   "cell_type": "code",
   "execution_count": 32,
   "metadata": {},
   "outputs": [
    {
     "data": {
      "text/plain": [
       "[dict_values(['MSI', 'Gaming', 17.3, 'Intel Core i7', 16, 'Nvidia', 'Windows', 4.5, 0, 0, 127.33567457123111, 128, 1000, 0])]"
      ]
     },
     "execution_count": 32,
     "metadata": {},
     "output_type": "execute_result"
    }
   ],
   "source": [
    "[r1.values()]"
   ]
  },
  {
   "cell_type": "code",
   "execution_count": 33,
   "metadata": {},
   "outputs": [],
   "source": [
    "# pd.DataFrame([r1.values()],columns=r1.keys())"
   ]
  },
  {
   "cell_type": "code",
   "execution_count": 34,
   "metadata": {},
   "outputs": [
    {
     "data": {
      "text/plain": [
       "15.293416449126777"
      ]
     },
     "execution_count": 34,
     "metadata": {},
     "output_type": "execute_result"
    }
   ],
   "source": [
    "y_test.iloc[2]"
   ]
  },
  {
   "cell_type": "code",
   "execution_count": null,
   "metadata": {},
   "outputs": [],
   "source": []
  },
  {
   "cell_type": "code",
   "execution_count": null,
   "metadata": {},
   "outputs": [],
   "source": []
  }
 ],
 "metadata": {
  "kernelspec": {
   "display_name": "Python 3",
   "language": "python",
   "name": "python3"
  },
  "language_info": {
   "codemirror_mode": {
    "name": "ipython",
    "version": 3
   },
   "file_extension": ".py",
   "mimetype": "text/x-python",
   "name": "python",
   "nbconvert_exporter": "python",
   "pygments_lexer": "ipython3",
   "version": "3.8.8"
  }
 },
 "nbformat": 4,
 "nbformat_minor": 4
}
