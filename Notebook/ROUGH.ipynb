{
 "cells": [
  {
   "cell_type": "code",
   "execution_count": 37,
   "id": "9d6e2fd9",
   "metadata": {},
   "outputs": [
    {
     "name": "stdout",
     "output_type": "stream",
     "text": [
      "1920\n",
      "1080\n",
      "165.6321180513006\n"
     ]
    }
   ],
   "source": [
    "def ppi(x):\n",
    "    resolution={\n",
    "        'HD':[1280,720],\n",
    "        'FullHD':[1920,1080],\n",
    "        'QuadHD':[2560,1440],\n",
    "        '4K':[3840,2160]\n",
    "    }\n",
    "#     idx=resolution.keys()\n",
    "    lst=resolution[x]\n",
    "    print(lst[0])\n",
    "    print(lst[1])\n",
    "    return ((lst[0]**2+lst[1]**2)**0.5)/15\n",
    "\n",
    "print(ppi('FullHD'))"
   ]
  },
  {
   "cell_type": "code",
   "execution_count": 13,
   "id": "65c54ec0",
   "metadata": {},
   "outputs": [],
   "source": [
    "import pickle\n",
    "import numpy as np\n",
    "model = pickle.load(open('pipe.pkl','rb'))"
   ]
  },
  {
   "cell_type": "code",
   "execution_count": 42,
   "id": "fc41af66",
   "metadata": {},
   "outputs": [
    {
     "name": "stderr",
     "output_type": "stream",
     "text": [
      "C:\\Users\\DELL\\anaconda3\\lib\\site-packages\\sklearn\\base.py:450: UserWarning: X does not have valid feature names, but OneHotEncoder was fitted with feature names\n",
      "  warnings.warn(\n"
     ]
    },
    {
     "data": {
      "text/plain": [
       "array([83242.85], dtype=float32)"
      ]
     },
     "execution_count": 42,
     "metadata": {},
     "output_type": "execute_result"
    }
   ],
   "source": [
    "np.exp(model.predict([['HP', 'Ultrabook', 15.6, 'Intel Core i7', 16, 'Nvidia', 'Windows', 2, 0, 1, 165,512, 0, 0]]))/165"
   ]
  },
  {
   "cell_type": "code",
   "execution_count": 40,
   "id": "4be5810d",
   "metadata": {},
   "outputs": [
    {
     "data": {
      "text/plain": [
       "7.38905609893065"
      ]
     },
     "execution_count": 40,
     "metadata": {},
     "output_type": "execute_result"
    }
   ],
   "source": [
    "np.exp(2)"
   ]
  },
  {
   "cell_type": "code",
   "execution_count": 23,
   "id": "6525487b",
   "metadata": {},
   "outputs": [
    {
     "data": {
      "text/plain": [
       "160376.112"
      ]
     },
     "execution_count": 23,
     "metadata": {},
     "output_type": "execute_result"
    }
   ],
   "source": [
    "16037611.20/100"
   ]
  },
  {
   "cell_type": "code",
   "execution_count": null,
   "id": "c0872353",
   "metadata": {},
   "outputs": [],
   "source": []
  }
 ],
 "metadata": {
  "kernelspec": {
   "display_name": "Python 3",
   "language": "python",
   "name": "python3"
  },
  "language_info": {
   "codemirror_mode": {
    "name": "ipython",
    "version": 3
   },
   "file_extension": ".py",
   "mimetype": "text/x-python",
   "name": "python",
   "nbconvert_exporter": "python",
   "pygments_lexer": "ipython3",
   "version": "3.8.8"
  }
 },
 "nbformat": 4,
 "nbformat_minor": 5
}
